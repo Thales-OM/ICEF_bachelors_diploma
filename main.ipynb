{
 "cells": [
  {
   "cell_type": "code",
   "execution_count": 1,
   "id": "fdda2674",
   "metadata": {},
   "outputs": [],
   "source": [
    "import numpy as np\n",
    "import pandas as pd\n",
    "from matplotlib import pyplot as plt\n",
    "import seaborn as sns\n",
    "# from statsmodels import api\n",
    "from scipy import stats\n",
    "from scipy.optimize import minimize\n",
    "from lifetimes.fitters.pareto_nbd_fitter import ParetoNBDFitter\n",
    "from lifetimes.fitters.gamma_gamma_fitter import GammaGammaFitter\n",
    "from sklearn.ensemble import RandomForestRegressor\n",
    "from scipy.special import gamma\n",
    "from sklearn.metrics import mean_squared_error, r2_score\n",
    "import math\n",
    "from math import sqrt\n",
    "\n",
    "from lifetimes.plotting import plot_frequency_recency_matrix\n",
    "from lifetimes.plotting import plot_probability_alive_matrix\n",
    "from lifetimes.plotting import plot_period_transactions\n",
    "from lifetimes.utils import calibration_and_holdout_data"
   ]
  },
  {
   "cell_type": "code",
   "execution_count": 2,
   "id": "e0d7bff0",
   "metadata": {},
   "outputs": [],
   "source": [
    "def get_model(data, penalizer_val, time):\n",
    "    pareto_result = data.copy()\n",
    "\n",
    "    pareto_model = ParetoNBDFitter(penalizer_coef=penalizer_val)\n",
    "    pareto_model.fit(pareto_result[\"frequency\"], pareto_result[\"recency\"], pareto_result[\"T\"])\n",
    "\n",
    "    # calculating the predicted_purchases\n",
    "\n",
    "    t = time\n",
    "\n",
    "    pareto_result[\"predicted_purchases\"] = pareto_model.conditional_expected_number_of_purchases_up_to_time(t,\n",
    "                                                                                                            pareto_result[\n",
    "                                                                                                                \"frequency\"],\n",
    "                                                                                                            pareto_result[\n",
    "                                                                                                                \"recency\"],\n",
    "                                                                                                            pareto_result[\n",
    "                                                                                                                \"T\"])\n",
    "\n",
    "    pareto_result[\"Actual_Purchases\"] = pareto_result[\"frequency\"] / pareto_result[\"recency\"] * time\n",
    "\n",
    "    # filling the null values\n",
    "    pareto_result[\"Actual_Purchases\"].fillna(0, inplace=True)\n",
    "\n",
    "    # calculating the error\n",
    "    pareto_result[\"Prediction_Error\"] = pareto_result[\"Actual_Purchases\"] - pareto_result[\"predicted_purchases\"]\n",
    "\n",
    "    # calcuating the purchase prediction error\n",
    "    pareto_mse_purchase = mean_squared_error(pareto_result[\"Actual_Purchases\"], pareto_result[\"predicted_purchases\"])\n",
    "    pareto_r2_purchase = r2_score(pareto_result[\"Actual_Purchases\"], pareto_result[\"predicted_purchases\"])\n",
    "    pareto_rmse_purchase = sqrt(\n",
    "        mean_squared_error(pareto_result[\"Actual_Purchases\"], pareto_result[\"predicted_purchases\"]))\n",
    "    pareto_avg_error_purchase = pareto_result[\"Prediction_Error\"].mean()\n",
    "\n",
    "    # printing the purchase prediction error\n",
    "    print(\"Predicted Purchase Mean Squared Error: %s\" % (pareto_mse_purchase))\n",
    "    print(\"Predicted Purchase R2 Score: %s\" % (pareto_r2_purchase))\n",
    "    print(\"Predicted Purchase Root Mean Squared Error: %s\" % (pareto_rmse_purchase))\n",
    "    print(\"Predicted Purchase Average Purchases Error: %s\" % (pareto_avg_error_purchase))\n",
    "\n",
    "    # plotting the prediction v/s actual purchase plot\n",
    "    plt.figure(figsize=(6, 4))\n",
    "    plt.errorbar(pareto_result[\"Actual_Purchases\"], pareto_result[\"predicted_purchases\"],\n",
    "                 yerr=pareto_result[\"Prediction_Error\"], fmt='o', color='darkseagreen',\n",
    "                 ecolor='grey', elinewidth=1.5, capsize=0, alpha=0.2);\n",
    "    plt.title(\"Prediction v/s Actual\")"
   ]
  },
  {
   "cell_type": "code",
   "execution_count": 3,
   "id": "508efd9f",
   "metadata": {},
   "outputs": [],
   "source": [
    "customer_rfm = pd.read_csv('C:\\\\Users\\\\il.pugin\\\\Downloads\\\\customer_rfm\\\\customer_rfm.csv')\n",
    "# print(customer_rfm.head(10))\n",
    "# print(customer_rfm.columns)"
   ]
  },
  {
   "cell_type": "code",
   "execution_count": 10,
   "id": "d5b1b507",
   "metadata": {},
   "outputs": [],
   "source": [
    "rfm_fixed = customer_rfm.dropna()"
   ]
  },
  {
   "cell_type": "code",
   "execution_count": 7,
   "id": "00325334",
   "metadata": {},
   "outputs": [
    {
     "name": "stderr",
     "output_type": "stream",
     "text": [
      "C:\\Python\\Lib\\site-packages\\numpy\\core\\fromnumeric.py:86: RuntimeWarning: invalid value encountered in reduce\n",
      "  return ufunc.reduce(obj, axis, dtype, out, **passkwargs)\n",
      "C:\\Users\\il.pugin\\PycharmProjects\\diploma\\venv\\Lib\\site-packages\\lifetimes\\fitters\\pareto_nbd_fitter.py:216: RuntimeWarning: invalid value encountered in logaddexp\n",
      "  A_2 = logaddexp(-(r + x) * log(alpha + T) - s * log(beta + T), log(s) + log_A_0 - log(r_s_x))\n",
      "C:\\Users\\il.pugin\\PycharmProjects\\diploma\\venv\\Lib\\site-packages\\scipy\\special\\_logsumexp.py:109: RuntimeWarning: overflow encountered in exp\n",
      "  tmp = b * np.exp(a - a_max)\n"
     ]
    },
    {
     "data": {
      "text/plain": [
       "<lifetimes.ParetoNBDFitter: fitted with 433775 subjects, alpha: 23.20, beta: 396.53, r: 1.95, s: 0.53>"
      ]
     },
     "execution_count": 7,
     "metadata": {},
     "output_type": "execute_result"
    }
   ],
   "source": [
    "# fit a model\n",
    "pareto_model = ParetoNBDFitter(penalizer_coef=0.0)\n",
    "pareto_model.fit(customer_rfm['frequency'], customer_rfm['recency'], customer_rfm['t'])"
   ]
  },
  {
   "cell_type": "code",
   "execution_count": 8,
   "id": "1f952152",
   "metadata": {},
   "outputs": [],
   "source": [
    "pareto_result = customer_rfm.copy()"
   ]
  },
  {
   "cell_type": "code",
   "execution_count": 9,
   "id": "09accbe5",
   "metadata": {},
   "outputs": [
    {
     "data": {
      "text/plain": [
       "<Axes: title={'center': 'Frequency of Repeat Transactions'}, xlabel='Number of Calibration Period Transactions', ylabel='Customers'>"
      ]
     },
     "execution_count": 9,
     "metadata": {},
     "output_type": "execute_result"
    },
    {
     "data": {
      "image/png": "[encoded data removed]",
      "text/plain": [
       "<Figure size 640x480 with 1 Axes>"
      ]
     },
     "metadata": {},
     "output_type": "display_data"
    }
   ],
   "source": [
    "plot_period_transactions(pareto_model)"
   ]
  },
  {
   "cell_type": "code",
   "execution_count": 13,
   "id": "eb0b1a32",
   "metadata": {},
   "outputs": [
    {
     "data": {
      "text/plain": [
       "<Axes: >"
      ]
     },
     "execution_count": 13,
     "metadata": {},
     "output_type": "execute_result"
    },
    {
     "data": {
      "image/png": "[encoded data removed]",
      "text/plain": [
       "<Figure size 600x500 with 1 Axes>"
      ]
     },
     "metadata": {},
     "output_type": "display_data"
    }
   ],
   "source": [
    "plt.figure(figsize=(6,5))\n",
    "sns.heatmap(customer_rfm[[\"frequency\", \"m\"]].corr(), annot = True, cbar = False)"
   ]
  },
  {
   "cell_type": "code",
   "execution_count": 15,
   "id": "a5da584b",
   "metadata": {},
   "outputs": [
    {
     "data": {
      "text/plain": [
       "<lifetimes.GammaGammaFitter: fitted with 433775 subjects, p: 0.96, q: 0.19, v: 0.94>"
      ]
     },
     "execution_count": 15,
     "metadata": {},
     "output_type": "execute_result"
    }
   ],
   "source": [
    "ggf_model =  GammaGammaFitter(penalizer_coef=0.1)\n",
    "ggf_model.fit(customer_rfm[\"frequency\"], customer_rfm[\"m\"])"
   ]
  },
  {
   "cell_type": "code",
   "execution_count": 17,
   "id": "768fe835",
   "metadata": {},
   "outputs": [
    {
     "data": {
      "text/html": [
       "<div>\n",
       "<style scoped>\n",
       "    .dataframe tbody tr th:only-of-type {\n",
       "        vertical-align: middle;\n",
       "    }\n",
       "\n",
       "    .dataframe tbody tr th {\n",
       "        vertical-align: top;\n",
       "    }\n",
       "\n",
       "    .dataframe thead th {\n",
       "        text-align: right;\n",
       "    }\n",
       "</style>\n",
       "<table border=\"1\" class=\"dataframe\">\n",
       "  <thead>\n",
       "    <tr style=\"text-align: right;\">\n",
       "      <th></th>\n",
       "      <th>coef</th>\n",
       "      <th>se(coef)</th>\n",
       "      <th>lower 95% bound</th>\n",
       "      <th>upper 95% bound</th>\n",
       "    </tr>\n",
       "  </thead>\n",
       "  <tbody>\n",
       "    <tr>\n",
       "      <th>p</th>\n",
       "      <td>0.956136</td>\n",
       "      <td>0.002481</td>\n",
       "      <td>0.951273</td>\n",
       "      <td>0.960999</td>\n",
       "    </tr>\n",
       "    <tr>\n",
       "      <th>q</th>\n",
       "      <td>0.185318</td>\n",
       "      <td>0.000303</td>\n",
       "      <td>0.184725</td>\n",
       "      <td>0.185912</td>\n",
       "    </tr>\n",
       "    <tr>\n",
       "      <th>v</th>\n",
       "      <td>0.943679</td>\n",
       "      <td>0.002501</td>\n",
       "      <td>0.938776</td>\n",
       "      <td>0.948581</td>\n",
       "    </tr>\n",
       "  </tbody>\n",
       "</table>\n",
       "</div>"
      ],
      "text/plain": [
       "       coef  se(coef)  lower 95% bound  upper 95% bound\n",
       "p  0.956136  0.002481         0.951273         0.960999\n",
       "q  0.185318  0.000303         0.184725         0.185912\n",
       "v  0.943679  0.002501         0.938776         0.948581"
      ]
     },
     "execution_count": 17,
     "metadata": {},
     "output_type": "execute_result"
    }
   ],
   "source": [
    "ggf_model.summary"
   ]
  },
  {
   "cell_type": "code",
   "execution_count": 19,
   "id": "510264f9",
   "metadata": {},
   "outputs": [
    {
     "ename": "AttributeError",
     "evalue": "'ParetoNBDFitter' object has no attribute 'standard_errors_'",
     "output_type": "error",
     "traceback": [
      "\u001b[1;31m---------------------------------------------------------------------------\u001b[0m",
      "\u001b[1;31mAttributeError\u001b[0m                            Traceback (most recent call last)",
      "Cell \u001b[1;32mIn[19], line 1\u001b[0m\n\u001b[1;32m----> 1\u001b[0m \u001b[43mpareto_model\u001b[49m\u001b[38;5;241;43m.\u001b[39;49m\u001b[43msummary\u001b[49m\n",
      "File \u001b[1;32m~\\PycharmProjects\\diploma\\venv\\Lib\\site-packages\\lifetimes\\fitters\\__init__.py:139\u001b[0m, in \u001b[0;36mBaseFitter.summary\u001b[1;34m(self)\u001b[0m\n\u001b[0;32m    137\u001b[0m df \u001b[38;5;241m=\u001b[39m pd\u001b[38;5;241m.\u001b[39mDataFrame(index\u001b[38;5;241m=\u001b[39m\u001b[38;5;28mself\u001b[39m\u001b[38;5;241m.\u001b[39mparams_\u001b[38;5;241m.\u001b[39mindex)\n\u001b[0;32m    138\u001b[0m df[\u001b[38;5;124m\"\u001b[39m\u001b[38;5;124mcoef\u001b[39m\u001b[38;5;124m\"\u001b[39m] \u001b[38;5;241m=\u001b[39m \u001b[38;5;28mself\u001b[39m\u001b[38;5;241m.\u001b[39mparams_\n\u001b[1;32m--> 139\u001b[0m df[\u001b[38;5;124m\"\u001b[39m\u001b[38;5;124mse(coef)\u001b[39m\u001b[38;5;124m\"\u001b[39m] \u001b[38;5;241m=\u001b[39m \u001b[38;5;28;43mself\u001b[39;49m\u001b[38;5;241;43m.\u001b[39;49m\u001b[43mstandard_errors_\u001b[49m\n\u001b[0;32m    140\u001b[0m df[\u001b[38;5;124m\"\u001b[39m\u001b[38;5;124mlower 95\u001b[39m\u001b[38;5;124m%\u001b[39m\u001b[38;5;124m bound\u001b[39m\u001b[38;5;124m\"\u001b[39m] \u001b[38;5;241m=\u001b[39m \u001b[38;5;28mself\u001b[39m\u001b[38;5;241m.\u001b[39mconfidence_intervals_[\u001b[38;5;124m\"\u001b[39m\u001b[38;5;124mlower 95\u001b[39m\u001b[38;5;124m%\u001b[39m\u001b[38;5;124m bound\u001b[39m\u001b[38;5;124m\"\u001b[39m]\n\u001b[0;32m    141\u001b[0m df[\u001b[38;5;124m\"\u001b[39m\u001b[38;5;124mupper 95\u001b[39m\u001b[38;5;124m%\u001b[39m\u001b[38;5;124m bound\u001b[39m\u001b[38;5;124m\"\u001b[39m] \u001b[38;5;241m=\u001b[39m \u001b[38;5;28mself\u001b[39m\u001b[38;5;241m.\u001b[39mconfidence_intervals_[\u001b[38;5;124m\"\u001b[39m\u001b[38;5;124mupper 95\u001b[39m\u001b[38;5;124m%\u001b[39m\u001b[38;5;124m bound\u001b[39m\u001b[38;5;124m\"\u001b[39m]\n",
      "\u001b[1;31mAttributeError\u001b[0m: 'ParetoNBDFitter' object has no attribute 'standard_errors_'"
     ]
    }
   ],
   "source": [
    "pareto_model.summary"
   ]
  },
  {
   "cell_type": "code",
   "execution_count": 26,
   "id": "94d583db",
   "metadata": {},
   "outputs": [
    {
     "name": "stderr",
     "output_type": "stream",
     "text": [
      "C:\\Users\\il.pugin\\PycharmProjects\\diploma\\venv\\Lib\\site-packages\\pandas\\core\\arraylike.py:396: RuntimeWarning: divide by zero encountered in log\n",
      "  result = getattr(ufunc, method)(*inputs, **kwargs)\n"
     ]
    }
   ],
   "source": [
    "cltv_predict = ggf_model.customer_lifetime_value(pareto_model, customer_rfm_test['frequency']*0, customer_rfm_test['recency']*0, customer_rfm_test['t']*0, customer_rfm_test['m'], time=29, discount_rate=0.3/12, freq='D')"
   ]
  },
  {
   "cell_type": "code",
   "execution_count": 27,
   "id": "1e4f3158",
   "metadata": {},
   "outputs": [
    {
     "name": "stderr",
     "output_type": "stream",
     "text": [
      "C:\\Users\\il.pugin\\PycharmProjects\\diploma\\venv\\Lib\\site-packages\\pandas\\core\\arraylike.py:396: RuntimeWarning: divide by zero encountered in log\n",
      "  result = getattr(ufunc, method)(*inputs, **kwargs)\n"
     ]
    }
   ],
   "source": [
    "cltv_act = ggf_model.customer_lifetime_value(pareto_model, customer_rfm_test['frequency'], customer_rfm_test['recency'], customer_rfm_test['t'], customer_rfm_test['m'], time=29, discount_rate=0.3/12, freq='D')"
   ]
  },
  {
   "cell_type": "code",
   "execution_count": 28,
   "id": "db997280",
   "metadata": {},
   "outputs": [
    {
     "name": "stdout",
     "output_type": "stream",
     "text": [
      "Mean Absolute Error (MAE): 19296.638143576736\n",
      "Mean Squared Error (MSE): 4341794485.388352\n",
      "R squared (R2): -0.09380688051920516\n",
      "Root Mean Squared Error (RMSE): 65892.2945828141\n",
      "Mean Absolute Percentage Error (MAPE): 1.4550677160568415e+197\n",
      "Accuracy: -1.4550677160568415e+197\n"
     ]
    }
   ],
   "source": [
    "import numpy as np\n",
    "from sklearn import metrics\n",
    "\n",
    "gt = cltv_act\n",
    "pred = cltv_predict\n",
    "\n",
    "def results_print(gt, pred):\n",
    "    print('Mean Absolute Error (MAE):', metrics.mean_absolute_error(gt, pred))\n",
    "    print('Mean Squared Error (MSE):', metrics.mean_squared_error(gt, pred))\n",
    "    print('R squared (R2):', metrics.r2_score(gt, pred))\n",
    "    print('Root Mean Squared Error (RMSE):', np.sqrt(metrics.mean_squared_error(gt, pred)))\n",
    "    mape = np.mean(np.abs((gt - pred) / np.abs(gt)))\n",
    "    print('Mean Absolute Percentage Error (MAPE):', round(mape * 100, 2))\n",
    "    print('Accuracy:', round(100*(1 - mape), 2))\n",
    "\n",
    "results_print(gt, pred)"
   ]
  },
  {
   "cell_type": "code",
   "execution_count": null,
   "id": "17a9f8d1",
   "metadata": {},
   "outputs": [],
   "source": []
  },
  {
   "cell_type": "code",
   "execution_count": 25,
   "id": "616fdc74",
   "metadata": {},
   "outputs": [],
   "source": [
    "customer_rfm_test = pd.read_csv(\"C:\\\\Users\\\\il.pugin\\\\Downloads\\\\customer_rfm_test\\\\customer_rfm_test.csv\")"
   ]
  },
  {
   "cell_type": "code",
   "execution_count": 29,
   "id": "4090a055",
   "metadata": {},
   "outputs": [
    {
     "name": "stderr",
     "output_type": "stream",
     "text": [
      "C:\\Python\\Lib\\site-packages\\numpy\\core\\fromnumeric.py:86: RuntimeWarning: invalid value encountered in reduce\n",
      "  return ufunc.reduce(obj, axis, dtype, out, **passkwargs)\n",
      "C:\\Users\\il.pugin\\PycharmProjects\\diploma\\venv\\Lib\\site-packages\\lifetimes\\fitters\\pareto_nbd_fitter.py:216: RuntimeWarning: invalid value encountered in logaddexp\n",
      "  A_2 = logaddexp(-(r + x) * log(alpha + T) - s * log(beta + T), log(s) + log_A_0 - log(r_s_x))\n",
      "C:\\Users\\il.pugin\\PycharmProjects\\diploma\\venv\\Lib\\site-packages\\scipy\\special\\_logsumexp.py:109: RuntimeWarning: overflow encountered in exp\n",
      "  tmp = b * np.exp(a - a_max)\n"
     ]
    },
    {
     "data": {
      "text/plain": [
       "<lifetimes.ParetoNBDFitter: fitted with 151414 subjects, alpha: 18.08, beta: 394.80, r: 1.52, s: 0.52>"
      ]
     },
     "execution_count": 29,
     "metadata": {},
     "output_type": "execute_result"
    }
   ],
   "source": [
    "# fit a model\n",
    "pareto_model_new = ParetoNBDFitter(penalizer_coef=0.0)\n",
    "pareto_model_new.fit(customer_rfm_test['frequency'], customer_rfm_test['recency'], customer_rfm_test['t'])"
   ]
  },
  {
   "cell_type": "code",
   "execution_count": 30,
   "id": "77af995d",
   "metadata": {},
   "outputs": [
    {
     "data": {
      "text/plain": [
       "<lifetimes.GammaGammaFitter: fitted with 151414 subjects, p: 0.95, q: 0.18, v: 0.94>"
      ]
     },
     "execution_count": 30,
     "metadata": {},
     "output_type": "execute_result"
    }
   ],
   "source": [
    "ggf_model_new =  GammaGammaFitter(penalizer_coef=0.1)\n",
    "ggf_model_new.fit(customer_rfm_test[\"frequency\"], customer_rfm_test[\"m\"])"
   ]
  },
  {
   "cell_type": "code",
   "execution_count": 31,
   "id": "966b5027",
   "metadata": {},
   "outputs": [
    {
     "name": "stderr",
     "output_type": "stream",
     "text": [
      "C:\\Users\\il.pugin\\PycharmProjects\\diploma\\venv\\Lib\\site-packages\\pandas\\core\\arraylike.py:396: RuntimeWarning: divide by zero encountered in log\n",
      "  result = getattr(ufunc, method)(*inputs, **kwargs)\n"
     ]
    }
   ],
   "source": [
    "cltv_predict = ggf_model_new.customer_lifetime_value(pareto_model_new, customer_rfm_test['frequency']*0, customer_rfm_test['recency']*0, customer_rfm_test['t']*0, customer_rfm_test['m'], time=29, discount_rate=0.3/12, freq='D')"
   ]
  },
  {
   "cell_type": "code",
   "execution_count": 32,
   "id": "ab1a07e8",
   "metadata": {},
   "outputs": [
    {
     "name": "stderr",
     "output_type": "stream",
     "text": [
      "C:\\Users\\il.pugin\\PycharmProjects\\diploma\\venv\\Lib\\site-packages\\pandas\\core\\arraylike.py:396: RuntimeWarning: divide by zero encountered in log\n",
      "  result = getattr(ufunc, method)(*inputs, **kwargs)\n"
     ]
    }
   ],
   "source": [
    "cltv_act = ggf_model_new.customer_lifetime_value(pareto_model_new, customer_rfm_test['frequency'], customer_rfm_test['recency'], customer_rfm_test['t'], customer_rfm_test['m'], time=29, discount_rate=0.3/12, freq='D')"
   ]
  },
  {
   "cell_type": "code",
   "execution_count": 33,
   "id": "294e9f68",
   "metadata": {},
   "outputs": [
    {
     "name": "stdout",
     "output_type": "stream",
     "text": [
      "Mean Absolute Error (MAE): 19392.297354359463\n",
      "Mean Squared Error (MSE): 4392036838.511236\n",
      "R squared (R2): -0.09364130418590055\n",
      "Root Mean Squared Error (RMSE): 66272.44403604892\n",
      "Mean Absolute Percentage Error (MAPE): 1.1885001344349786e+199\n",
      "Accuracy: -1.1885001344349786e+199\n"
     ]
    }
   ],
   "source": [
    "import numpy as np\n",
    "from sklearn import metrics\n",
    "\n",
    "gt = cltv_act\n",
    "pred = cltv_predict\n",
    "\n",
    "def results_print(gt, pred):\n",
    "    print('Mean Absolute Error (MAE):', metrics.mean_absolute_error(gt, pred))\n",
    "    print('Mean Squared Error (MSE):', metrics.mean_squared_error(gt, pred))\n",
    "    print('R squared (R2):', metrics.r2_score(gt, pred))\n",
    "    print('Root Mean Squared Error (RMSE):', np.sqrt(metrics.mean_squared_error(gt, pred)))\n",
    "    mape = np.mean(np.abs((gt - pred) / np.abs(gt)))\n",
    "    print('Mean Absolute Percentage Error (MAPE):', round(mape * 100, 2))\n",
    "    print('Accuracy:', round(100*(1 - mape), 2))\n",
    "\n",
    "results_print(gt, pred)"
   ]
  },
  {
   "cell_type": "code",
   "execution_count": null,
   "id": "1daddf43",
   "metadata": {},
   "outputs": [],
   "source": []
  }
 ],
 "metadata": {
  "kernelspec": {
   "display_name": "Python 3 (ipykernel)",
   "language": "python",
   "name": "python3"
  },
  "language_info": {
   "codemirror_mode": {
    "name": "ipython",
    "version": 3
   },
   "file_extension": ".py",
   "mimetype": "text/x-python",
   "name": "python",
   "nbconvert_exporter": "python",
   "pygments_lexer": "ipython3",
   "version": "3.11.1"
  }
 },
 "nbformat": 4,
 "nbformat_minor": 5
}
